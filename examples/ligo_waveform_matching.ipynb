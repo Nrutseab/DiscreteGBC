import matplotlib.pyplot as plt
from physics.gravitational_waves import tetrahedral_waveform, detect_discrete_waves

# Generate sample waveform
t, hplus = tetrahedral_waveform(mass=2.6, hinge_defect=0.14)

# Plot waveform
plt.figure(figsize=(10, 5))
plt.plot(t, hplus)
plt.title("Tetrahedral Gravitational Waveform")
plt.xlabel("Time (s)")
plt.ylabel("Strain")
plt.grid(True)
plt.show()

# Analyze LIGO event
event_file = "data/ligo/GW230529.hdf5"
match, params, template, strain, t = detect_discrete_waves(event_file)

# Plot comparison
plt.figure(figsize=(12, 6))
plt.plot(t, strain, 'b-', alpha=0.6, label="LIGO Data")
plt.plot(t, template, 'r-', linewidth=1.5, label=f"Tetrahedral Template (Match: {match:.2%})")
plt.title(f"GW230529 Analysis - Mass: {params[0]:.2f} M☉, Defect: {params[1]:.4f} rad")
plt.xlabel("Time (s)")
plt.ylabel("Strain")
plt.legend()
plt.grid(True)
plt.show()

print(f"Detection significance: {match:.2%}")
